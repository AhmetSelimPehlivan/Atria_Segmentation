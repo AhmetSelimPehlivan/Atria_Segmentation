{
 "cells": [
  {
   "cell_type": "code",
   "execution_count": 25,
   "metadata": {},
   "outputs": [
    {
     "data": {
      "text/plain": [
       "\"data_filename = '/Users/asp/Desktop/ITUYL/2024-2025 Fall/BLG 563E/atria_segmentation_2018/data/train/0RZDK210BSMWAA6467LU/lgemri.nrrd'\\nmask_filename = '/Users/asp/Desktop/ITUYL/2024-2025 Fall/BLG 563E/atria_segmentation_2018/data/train/0RZDK210BSMWAA6467LU/laendo.nrrd'\\n\\ndata, data_header = nrrd.read(data_filename)\\nmask, mask_header = nrrd.read(mask_filename)\""
      ]
     },
     "execution_count": 25,
     "metadata": {},
     "output_type": "execute_result"
    }
   ],
   "source": [
    "import os\n",
    "import nrrd\n",
    "import numpy as np\n",
    "import pandas as pd\n",
    "import matplotlib.pyplot as plt\n",
    "\n",
    "\"\"\"data_filename = '/Users/asp/Desktop/ITUYL/2024-2025 Fall/BLG 563E/atria_segmentation_2018/data/train/0RZDK210BSMWAA6467LU/lgemri.nrrd'\n",
    "mask_filename = '/Users/asp/Desktop/ITUYL/2024-2025 Fall/BLG 563E/atria_segmentation_2018/data/train/0RZDK210BSMWAA6467LU/laendo.nrrd'\n",
    "\n",
    "data, data_header = nrrd.read(data_filename)\n",
    "mask, mask_header = nrrd.read(mask_filename)\"\"\""
   ]
  },
  {
   "cell_type": "code",
   "execution_count": 30,
   "metadata": {},
   "outputs": [
    {
     "name": "stdout",
     "output_type": "stream",
     "text": [
      "Data has been saved to data_paths.csv\n"
     ]
    }
   ],
   "source": [
    "def save_data(data_path, data_type):\n",
    "    data_entries = []\n",
    "    \n",
    "    for image_folder in os.listdir(os.path.join(data_path, data_type)):\n",
    "        folder_path = os.path.join(data_path, data_type, image_folder)\n",
    "        \n",
    "        if os.path.isdir(folder_path):\n",
    "            for image in os.listdir(folder_path):\n",
    "                image_path = os.path.join(folder_path, image)\n",
    "                \n",
    "                if 'laendo' in image:\n",
    "                    data_entries.append({'path': image_path, 'type': 'mask'})\n",
    "                elif 'lgemri' in image:\n",
    "                    data_entries.append({'path': image_path, 'type': 'image'})\n",
    "\n",
    "    df = pd.DataFrame(data_entries)\n",
    "    df.to_csv('data/data_paths.csv', index=False)\n",
    "    print(\"Data has been saved to data_paths.csv\")\n",
    "\n",
    "save_data(\"/Users/asp/Desktop/ITUYL/2024-2025 Fall/BLG 563E/atria_segmentation_2018/data\", \"train\")"
   ]
  },
  {
   "cell_type": "code",
   "execution_count": null,
   "metadata": {},
   "outputs": [],
   "source": []
  }
 ],
 "metadata": {
  "kernelspec": {
   "display_name": "atria",
   "language": "python",
   "name": "python3"
  },
  "language_info": {
   "codemirror_mode": {
    "name": "ipython",
    "version": 3
   },
   "file_extension": ".py",
   "mimetype": "text/x-python",
   "name": "python",
   "nbconvert_exporter": "python",
   "pygments_lexer": "ipython3",
   "version": "3.10.15"
  }
 },
 "nbformat": 4,
 "nbformat_minor": 2
}
